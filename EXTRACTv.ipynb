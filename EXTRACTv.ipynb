{
  "nbformat": 4,
  "nbformat_minor": 0,
  "metadata": {
    "colab": {
      "name": "EXTRACTv.ipynb",
      "provenance": [],
      "authorship_tag": "ABX9TyMKxIU5Yl8wHqIqcMwGObfg",
      "include_colab_link": true
    },
    "kernelspec": {
      "name": "python3",
      "display_name": "Python 3"
    },
    "language_info": {
      "name": "python"
    },
    "accelerator": "GPU"
  },
  "cells": [
    {
      "cell_type": "markdown",
      "metadata": {
        "id": "view-in-github",
        "colab_type": "text"
      },
      "source": [
        "<a href=\"https://colab.research.google.com/github/onethicc/DFLtools/blob/main/EXTRACTv.ipynb\" target=\"_parent\"><img src=\"https://colab.research.google.com/assets/colab-badge.svg\" alt=\"Open In Colab\"/></a>"
      ]
    },
    {
      "cell_type": "markdown",
      "metadata": {
        "id": "7r7pMZGoCRn4"
      },
      "source": [
        "# ***Drive***"
      ]
    },
    {
      "cell_type": "code",
      "source": [
        "!nvidia-smi -L"
      ],
      "metadata": {
        "id": "wLfBcedxyyNT"
      },
      "execution_count": null,
      "outputs": []
    },
    {
      "cell_type": "code",
      "metadata": {
        "id": "lw8zKGEoDJ84"
      },
      "source": [
        "from google.colab import drive\n",
        "drive.mount('/content/drive')"
      ],
      "execution_count": null,
      "outputs": []
    },
    {
      "cell_type": "markdown",
      "metadata": {
        "id": "C-rGEUkah-T9"
      },
      "source": [
        "## ***GPU***"
      ]
    },
    {
      "cell_type": "code",
      "metadata": {
        "id": "zQsrEvURjP4L"
      },
      "source": [
        "import IPython\n",
        "from google.colab import output\n",
        "\n",
        "display(IPython.display.Javascript('''\n",
        " function ClickConnect(){\n",
        "   btn = document.querySelector(\"colab-connect-button\")\n",
        "   if (btn != null){\n",
        "     console.log(\"Click colab-connect-button\"); \n",
        "     btn.click() \n",
        "     }\n",
        "   \n",
        "   btn = document.getElementById('ok')\n",
        "   if (btn != null){\n",
        "     console.log(\"Click reconnect\"); \n",
        "     btn.click() \n",
        "     }\n",
        "  }\n",
        "  \n",
        "setInterval(ClickConnect,60000)\n",
        "'''))\n",
        "\n",
        "print(\"Done.\")\n",
        "!pip install colorama "
      ],
      "execution_count": null,
      "outputs": []
    },
    {
      "cell_type": "markdown",
      "source": [
        "# ***extract***"
      ],
      "metadata": {
        "id": "jY1k4x7ucx6M"
      }
    },
    {
      "cell_type": "code",
      "source": [
        "#@title setup\n",
        "!git clone -b new_extractor https://github.com/MachineEditor/DeepFaceLab.git\n",
        "!git clone --quiet https://github.com/c0decracker/video-splitter.git\n",
        "!pip uninstall -y tensorflow\n",
        "!pip install -q -r ./DeepFaceLab/requirements-colab.txt\n",
        "!pip install --upgrade scikit-image\n",
        "!apt-get install cuda-10-0\n",
        "!pip install -q yt-dlp ffmpeg-python"
      ],
      "metadata": {
        "cellView": "form",
        "id": "HfrbHvOZc0Cq"
      },
      "execution_count": null,
      "outputs": []
    },
    {
      "cell_type": "code",
      "source": [
        "#@title YTDOWN\n",
        "Link = \"\" #@param {type:\"string\"}\n",
        "!yt-dlp $Link"
      ],
      "metadata": {
        "id": "8g6Ci8x5dis5"
      },
      "execution_count": null,
      "outputs": []
    },
    {
      "cell_type": "code",
      "source": [
        "!ffmpeg -i a.webm -vcodec copy a.mp4"
      ],
      "metadata": {
        "id": "C2JtGZJGebAg"
      },
      "execution_count": null,
      "outputs": []
    },
    {
      "cell_type": "code",
      "source": [
        "%cd /content/\n",
        "c=\" video-splitter/ffmpeg-split.py -f mrunal/1.mp4 -s 120 \"\n",
        "!python $c"
      ],
      "metadata": {
        "id": "ZprWZHkGemO4"
      },
      "execution_count": null,
      "outputs": []
    },
    {
      "cell_type": "code",
      "source": [
        "c=\"DeepFaceLab/main.py extract --detector s3fd --extract-from-video \"\n",
        "c+=\" --input-dir 0 \"\n",
        "c+=\" --input-video i.* \"\n",
        "c+=\" --output-dir aligned --no-output-debug \"\n",
        "c+=\" --face-type whole_face --max-faces-from-image 0 \"\n",
        "c+=\" --image-size 512 --jpeg-quality 100 \"\n",
        "!python $c"
      ],
      "metadata": {
        "id": "9Nmvlk-WeOoW"
      },
      "execution_count": null,
      "outputs": []
    },
    {
      "cell_type": "code",
      "source": [
        "A=\"aligned\"\n",
        "B=\"\" #@param {type:\"string\"}\n",
        "Z=A+B\n",
        "!7z a -tzip $Z -mx0 -mmt"
      ],
      "metadata": {
        "id": "hPufN9crexK_"
      },
      "execution_count": null,
      "outputs": []
    }
  ]
}